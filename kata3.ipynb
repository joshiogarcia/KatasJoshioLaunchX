{
 "cells": [
  {
   "cell_type": "code",
   "execution_count": 18,
   "metadata": {},
   "outputs": [
    {
     "name": "stdout",
     "output_type": "stream",
     "text": [
      "¡Advertencia! Un asteroide se acerca\n"
     ]
    }
   ],
   "source": [
    "#print imprima una advertencia si un asteroide se acerca a la Tierra demasiado rápido\n",
    "\n",
    "asteroide = 49\n",
    "velocidad = 25\n",
    "\n",
    "if asteroide > velocidad:\n",
    "    print(\"¡Advertencia! Un asteroide se acerca\")\n",
    "else: \n",
    "    print(\"Todo está muy bien\")\n",
    "\n",
    "#velocidad > 25 km/s \n",
    "#velocidad varia\n",
    "\n",
    "#cerca del sol\n",
    "\n",
    "# y viaja a una velocidad de 49 km/s."
   ]
  },
  {
   "cell_type": "code",
   "execution_count": null,
   "metadata": {},
   "outputs": [],
   "source": []
  }
 ],
 "metadata": {
  "interpreter": {
   "hash": "69eb92836b941e979072a76c7fcfffe5419cca933cedd02cfafbdfca1a93358c"
  },
  "kernelspec": {
   "display_name": "Python 3.9.10 64-bit",
   "language": "python",
   "name": "python3"
  },
  "language_info": {
   "codemirror_mode": {
    "name": "ipython",
    "version": 3
   },
   "file_extension": ".py",
   "mimetype": "text/x-python",
   "name": "python",
   "nbconvert_exporter": "python",
   "pygments_lexer": "ipython3",
   "version": "3.9.10"
  },
  "orig_nbformat": 4
 },
 "nbformat": 4,
 "nbformat_minor": 2
}
